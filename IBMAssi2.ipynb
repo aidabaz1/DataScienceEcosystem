{
 "cells": [
  {
   "cell_type": "code",
   "execution_count": null,
   "id": "18dd1076-0313-4b0f-a79d-f02e320b8978",
   "metadata": {},
   "outputs": [],
   "source": [
    "import yfinance as yf\n",
    "import pandas as pd"
   ]
  },
  {
   "cell_type": "code",
   "execution_count": null,
   "id": "fd2b73f9-aae6-4ae4-b6f3-fcb2c1713bb4",
   "metadata": {},
   "outputs": [],
   "source": [
    "tesla = yf.Ticker(\"TSLA\")"
   ]
  },
  {
   "cell_type": "code",
   "execution_count": null,
   "id": "f20b1e70-fe09-4e45-83ca-8d73dc1c50ea",
   "metadata": {},
   "outputs": [],
   "source": [
    "tesla_info = tesla.info"
   ]
  },
  {
   "cell_type": "code",
   "execution_count": null,
   "id": "6f46e232-5e0e-4ac6-8e27-f5682cda2a9a",
   "metadata": {},
   "outputs": [],
   "source": [
    "tesla_info['totalRevenue']"
   ]
  },
  {
   "cell_type": "code",
   "execution_count": null,
   "id": "c44ce259-6b7f-4983-9c8d-e15395c2d9c6",
   "metadata": {},
   "outputs": [],
   "source": [
    "tesla_share_price_data = tesla.history(period=\"max\")"
   ]
  },
  {
   "cell_type": "code",
   "execution_count": null,
   "id": "87b6193d-90a5-41a5-83c1-30fc4750b1ee",
   "metadata": {},
   "outputs": [],
   "source": [
    "tesla_share_price_data.tail()"
   ]
  },
  {
   "cell_type": "code",
   "execution_count": null,
   "id": "1c32ac32-a1ed-4832-a1f5-58b24c9b1bca",
   "metadata": {},
   "outputs": [],
   "source": [
    "tesla_share_price_data.head()"
   ]
  },
  {
   "cell_type": "code",
   "execution_count": null,
   "id": "2e3b784a-c946-4dbc-ad3b-07c887fe6f5c",
   "metadata": {},
   "outputs": [],
   "source": [
    "tesla_share_price_data.reset_index(inplace=True)"
   ]
  },
  {
   "cell_type": "code",
   "execution_count": null,
   "id": "feb8e3f4-95f0-444e-85da-bddb314bde1a",
   "metadata": {},
   "outputs": [],
   "source": [
    "tesla_share_price_data.plot(x=\"Date\", y=\"Open\")"
   ]
  },
  {
   "cell_type": "code",
   "execution_count": null,
   "id": "3828dbd3-166f-4684-a6c6-c6d92b9809d9",
   "metadata": {},
   "outputs": [],
   "source": [
    "import yfinance as yf\n",
    "import pandas as pd"
   ]
  },
  {
   "cell_type": "code",
   "execution_count": null,
   "id": "08e40c46-d3a9-4eaa-9475-bd3691594de2",
   "metadata": {},
   "outputs": [],
   "source": [
    "GameStop = yf.Ticker(\"GME\")"
   ]
  },
  {
   "cell_type": "code",
   "execution_count": null,
   "id": "ee2a0a2e-1c11-4be5-99cb-9d479c80f876",
   "metadata": {},
   "outputs": [],
   "source": [
    "GameStop_info = GameStop.info"
   ]
  },
  {
   "cell_type": "code",
   "execution_count": null,
   "id": "377e5948-1e61-4a83-a5f8-4b80d0abc102",
   "metadata": {},
   "outputs": [],
   "source": [
    "GameStop_info['totalRevenue']"
   ]
  },
  {
   "cell_type": "code",
   "execution_count": null,
   "id": "d69cd1ee-ffaf-45c0-bbb1-67b29ccc9994",
   "metadata": {},
   "outputs": [],
   "source": [
    "GameStop_share_price_data = GameStop.history(period=\"max\")"
   ]
  },
  {
   "cell_type": "code",
   "execution_count": null,
   "id": "a25ba732-ea68-43f4-b360-4456fb12282a",
   "metadata": {},
   "outputs": [],
   "source": [
    "GameStop_share_price_data.head()"
   ]
  },
  {
   "cell_type": "code",
   "execution_count": null,
   "id": "e6e90508-471d-4e23-9fc6-ef3f83dbe2a9",
   "metadata": {},
   "outputs": [],
   "source": [
    "GameStop_share_price_data.tail()"
   ]
  },
  {
   "cell_type": "code",
   "execution_count": null,
   "id": "698e6f17-d2ad-4a66-a1c7-57aa88adc086",
   "metadata": {},
   "outputs": [],
   "source": [
    "GameStop_share_price_data.reset_index(inplace=True)"
   ]
  },
  {
   "cell_type": "code",
   "execution_count": null,
   "id": "5f9c2617-fd0f-4a96-8bd1-aa98017eeb15",
   "metadata": {},
   "outputs": [],
   "source": [
    "GameStop_share_price_data.plot(x=\"Date\", y=\"Open\")"
   ]
  },
  {
   "cell_type": "code",
   "execution_count": null,
   "id": "1342b61a-1b11-4644-93e2-738aa3b4d5c4",
   "metadata": {},
   "outputs": [],
   "source": [
    "!pip install pandas\n",
    "!pip install requests\n",
    "!pip install bs4\n",
    "!pip install html5lib \n",
    "!pip install lxml\n",
    "!pip install plotly"
   ]
  },
  {
   "cell_type": "code",
   "execution_count": null,
   "id": "5ea58029-121a-4620-b0fb-65a4cfe873b5",
   "metadata": {},
   "outputs": [],
   "source": [
    "import pandas as pd\n",
    "import requests\n",
    "from bs4 import BeautifulSoup\n",
    "import json\n",
    "import re\n",
    "import warnings\n",
    "warnings.filterwarnings(\"ignore\", category=FutureWarning)"
   ]
  },
  {
   "cell_type": "code",
   "execution_count": null,
   "id": "c6d4aca9-d986-4631-b7e1-95d997706769",
   "metadata": {},
   "outputs": [],
   "source": [
    "url = 'https://finance.yahoo.com/quote/TSLA/history/'"
   ]
  },
  {
   "cell_type": "code",
   "execution_count": null,
   "id": "2c3e6c4e-50a2-43ad-9aae-74711923a9a6",
   "metadata": {},
   "outputs": [],
   "source": [
    "data = requests.get(url)"
   ]
  },
  {
   "cell_type": "code",
   "execution_count": null,
   "id": "f7db682e-6fcd-4610-b8af-7050147f80a1",
   "metadata": {},
   "outputs": [],
   "source": [
    "BeautifulSoup(data, 'html.parser')"
   ]
  },
  {
   "cell_type": "code",
   "execution_count": null,
   "id": "6de6415f-72a1-4131-89f2-623e2fc0687f",
   "metadata": {},
   "outputs": [],
   "source": [
    "tesla_data = pd.DataFrame(columns=[\"Date\", \"Open\", \"High\", \"Low\", \"Close\", \"Volume\"])"
   ]
  },
  {
   "cell_type": "code",
   "execution_count": null,
   "id": "f3fdc8ad-ab65-4f1e-9a10-f3e9de2ed973",
   "metadata": {},
   "outputs": [],
   "source": [
    "for row in soup.find(\"tbody\").find_all('tr'):\n",
    "    col = row.find_all(\"td\")\n",
    "    date = col[0].text\n",
    "    Open = col[1].text\n",
    "    high = col[2].text\n",
    "    low = col[3].text\n",
    "    close = col[4].text\n",
    "    adj_close = col[5].text\n",
    "    volume = col[6].text\n",
    "    \n",
    "    tesla_data = pd.concat([tesla_data,pd.DataFrame({\"Date\":[date], \"Open\":[Open], \"High\":[high], \"Low\":[low], \"Close\":[close], \"Adj Close\":[adj_close], \"Volume\":[volume]})], ignore_index=True)    "
   ]
  },
  {
   "cell_type": "code",
   "execution_count": null,
   "id": "6cb6ff0d-a894-4079-8090-2a7646169c9b",
   "metadata": {},
   "outputs": [],
   "source": [
    "tesla_data.head()"
   ]
  },
  {
   "cell_type": "code",
   "execution_count": null,
   "id": "536feec6-b5c6-482a-9ce6-674b90a2276b",
   "metadata": {},
   "outputs": [],
   "source": []
  },
  {
   "cell_type": "code",
   "execution_count": null,
   "id": "6690241f-f20c-44ae-bd02-c63205f79b3f",
   "metadata": {},
   "outputs": [],
   "source": [
    "import pandas as pd\n",
    "import requests\n",
    "from bs4 import BeautifulSoup\n",
    "import json\n",
    "import re\n",
    "import warnings\n",
    "warnings.filterwarnings(\"ignore\", category=FutureWarning)"
   ]
  },
  {
   "cell_type": "code",
   "execution_count": null,
   "id": "2a4d45ca-80a2-4965-b591-2f3209a14b80",
   "metadata": {},
   "outputs": [],
   "source": [
    "url = 'https://finance.yahoo.com/quote/GME/history/'"
   ]
  },
  {
   "cell_type": "code",
   "execution_count": null,
   "id": "cf3685b7-ea0b-4d3f-a08d-64b1776fa06d",
   "metadata": {},
   "outputs": [],
   "source": [
    "data = requests.get(url)"
   ]
  },
  {
   "cell_type": "code",
   "execution_count": null,
   "id": "1cccb212-fd55-41ab-9c0e-fde932f1e7d8",
   "metadata": {},
   "outputs": [],
   "source": [
    "BeautifulSoup(data, 'html.parser')"
   ]
  },
  {
   "cell_type": "code",
   "execution_count": null,
   "id": "1e778d9e-b44f-425a-9e71-4228f7a92542",
   "metadata": {},
   "outputs": [],
   "source": [
    "GameStop_data = pd.DataFrame(columns=[\"Date\", \"Open\", \"High\", \"Low\", \"Close\", \"Volume\"])"
   ]
  },
  {
   "cell_type": "code",
   "execution_count": null,
   "id": "cc3a31a6-ab12-4b68-86eb-587f6ac96ae8",
   "metadata": {},
   "outputs": [],
   "source": [
    "for row in soup.find(\"tbody\").find_all('tr'):\n",
    "    col = row.find_all(\"td\")\n",
    "    date = col[0].text\n",
    "    Open = col[1].text\n",
    "    high = col[2].text\n",
    "    low = col[3].text\n",
    "    close = col[4].text\n",
    "    adj_close = col[5].text\n",
    "    volume = col[6].text\n",
    "    \n",
    "    GameStop_data = pd.concat([GameStop_data,pd.DataFrame({\"Date\":[date], \"Open\":[Open], \"High\":[high], \"Low\":[low], \"Close\":[close], \"Adj Close\":[adj_close], \"Volume\":[volume]})], ignore_index=True)    "
   ]
  },
  {
   "cell_type": "code",
   "execution_count": null,
   "id": "c510d034-d41b-4591-9059-b20ee686f1e9",
   "metadata": {},
   "outputs": [],
   "source": [
    "GameStop_data.head()"
   ]
  }
 ],
 "metadata": {
  "kernelspec": {
   "display_name": "Python 3 (ipykernel)",
   "language": "python",
   "name": "python3"
  },
  "language_info": {
   "codemirror_mode": {
    "name": "ipython",
    "version": 3
   },
   "file_extension": ".py",
   "mimetype": "text/x-python",
   "name": "python",
   "nbconvert_exporter": "python",
   "pygments_lexer": "ipython3",
   "version": "3.13.5"
  }
 },
 "nbformat": 4,
 "nbformat_minor": 5
}

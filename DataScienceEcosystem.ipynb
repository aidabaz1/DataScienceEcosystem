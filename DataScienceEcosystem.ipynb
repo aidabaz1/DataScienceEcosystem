{
 "cells": [
  {
   "cell_type": "markdown",
   "id": "6d94c3d7",
   "metadata": {},
   "source": [
    "# Data Science Tools and Ecosystem"
   ]
  },
  {
   "cell_type": "markdown",
   "id": "db90ef49",
   "metadata": {},
   "source": [
    "In this notebook, Data Science Tools and Ecosystem are summarized."
   ]
  },
  {
   "cell_type": "markdown",
   "id": "aa5faa36",
   "metadata": {},
   "source": [
    "**Objectives:**\n",
    "- popular languages that Data Scientists\n",
    "- commonly used libraries used by Data Scientists\n",
    "- table of Data Science tools\n",
    "- Arithmetic expression examples"
   ]
  },
  {
   "cell_type": "markdown",
   "id": "3077ac93",
   "metadata": {},
   "source": [
    "Some of the popular languages that Data Scientists use are:"
   ]
  },
  {
   "cell_type": "code",
   "execution_count": 2,
   "id": "d0ee39cb",
   "metadata": {},
   "outputs": [
    {
     "data": {
      "text/plain": [
       "['Python', 'R', 'SQL']"
      ]
     },
     "execution_count": 2,
     "metadata": {},
     "output_type": "execute_result"
    }
   ],
   "source": [
    "Lang_list = ['Python','R','SQL']\n",
    "Lang_list"
   ]
  },
  {
   "cell_type": "markdown",
   "id": "868a4521",
   "metadata": {},
   "source": [
    "Some of the commonly used libraries used by Data Scientists include:"
   ]
  },
  {
   "cell_type": "code",
   "execution_count": 4,
   "id": "125c7d62",
   "metadata": {},
   "outputs": [
    {
     "data": {
      "text/plain": [
       "['Numpy', 'Pandas', 'Pytorch']"
      ]
     },
     "execution_count": 4,
     "metadata": {},
     "output_type": "execute_result"
    }
   ],
   "source": [
    "Lib_list = ['Numpy','Pandas','Pytorch']\n",
    "Lib_list"
   ]
  },
  {
   "cell_type": "markdown",
   "id": "18f7f0a7",
   "metadata": {},
   "source": [
    "table of Data Science tools"
   ]
  },
  {
   "cell_type": "code",
   "execution_count": 15,
   "id": "0f531861",
   "metadata": {},
   "outputs": [
    {
     "name": "stdout",
     "output_type": "stream",
     "text": [
      "[Data Store]\n",
      "[Transformation]\n",
      "[Modeling]\n",
      "[Visualization]\n"
     ]
    }
   ],
   "source": [
    "class SimpleArray:\n",
    "    def __init__(self, data):\n",
    "        self.data = data\n",
    "        self.shape = (len(data), 1)\n",
    "    \n",
    "    def __str__(self):\n",
    "        return '\\n'.join([f\"[{item}]\" for item in self.data])\n",
    "\n",
    "array_4x1 = SimpleArray([\"Data Store\", \"Transformation\", \"Modeling\", \"Visualization\"])\n",
    "print(array_4x1)"
   ]
  },
  {
   "cell_type": "markdown",
   "id": "6576d1eb",
   "metadata": {},
   "source": [
    "Arithmetic expression examples"
   ]
  },
  {
   "cell_type": "code",
   "execution_count": 19,
   "id": "18c7df71",
   "metadata": {},
   "outputs": [
    {
     "name": "stdout",
     "output_type": "stream",
     "text": [
      "512\n"
     ]
    }
   ],
   "source": [
    "x = 8\n",
    "y = 3\n",
    "z = x**y\n",
    "print(z)"
   ]
  },
  {
   "cell_type": "code",
   "execution_count": 21,
   "id": "1bdd9bfb",
   "metadata": {},
   "outputs": [
    {
     "data": {
      "text/plain": [
       "17"
      ]
     },
     "execution_count": 21,
     "metadata": {},
     "output_type": "execute_result"
    }
   ],
   "source": [
    "#This a simple arithmetic expression to mutiply then add integers\n",
    "(3*4)+5"
   ]
  },
  {
   "cell_type": "code",
   "execution_count": 24,
   "id": "ad1e67e4",
   "metadata": {},
   "outputs": [
    {
     "name": "stdout",
     "output_type": "stream",
     "text": [
      "time is 3.3333333333333335\n"
     ]
    }
   ],
   "source": [
    "#This will convert 200 minutes to hours by diving by 60\n",
    "time = 200/60\n",
    "print('time is', time)"
   ]
  },
  {
   "cell_type": "markdown",
   "id": "028c7552",
   "metadata": {},
   "source": [
    "## Author\n",
    "Abdullah Bazayd"
   ]
  },
  {
   "cell_type": "code",
   "execution_count": null,
   "id": "46a1131e",
   "metadata": {},
   "outputs": [],
   "source": []
  }
 ],
 "metadata": {
  "kernelspec": {
   "display_name": "Python 3 (ipykernel)",
   "language": "python",
   "name": "python3"
  },
  "language_info": {
   "codemirror_mode": {
    "name": "ipython",
    "version": 3
   },
   "file_extension": ".py",
   "mimetype": "text/x-python",
   "name": "python",
   "nbconvert_exporter": "python",
   "pygments_lexer": "ipython3",
   "version": "3.7.1"
  }
 },
 "nbformat": 4,
 "nbformat_minor": 5
}
